{
 "cells": [
  {
   "cell_type": "code",
   "execution_count": 70,
   "metadata": {
    "collapsed": true
   },
   "outputs": [],
   "source": [
    "import pandas as pd\n",
    "import numpy as np\n",
    "import matplotlib.pyplot as plt\n",
    "import itertools"
   ]
  },
  {
   "cell_type": "code",
   "execution_count": 72,
   "metadata": {
    "collapsed": false
   },
   "outputs": [],
   "source": [
    "# Feed in kaggle scores into scores list\n",
    "# and models into model list\n",
    "scores = [0.47402,0.47571,0.4567]\n",
    "models = ['ensemble','XGBoost','Ridge']\n",
    "kaggle_scores_df = pd.DataFrame()\n",
    "kaggle_scores_df['model'] = models\n",
    "kaggle_scores_df['kaggle_score'] = scores"
   ]
  },
  {
   "cell_type": "code",
   "execution_count": 86,
   "metadata": {
    "collapsed": false
   },
   "outputs": [
    {
     "data": {
      "image/png": "[encoded data removed]",
      "text/plain": [
       "<matplotlib.figure.Figure at 0x1a35b3d30b8>"
      ]
     },
     "metadata": {},
     "output_type": "display_data"
    }
   ],
   "source": [
    "colors = ['b', 'g', 'r', 'c', 'm', 'y', 'k','w']\n",
    "kaggle_scores_df.kaggle_score.index=models\n",
    "ax = kaggle_scores_df.kaggle_score.plot(kind='bar',color=colors)\n",
    "plt.show()\n",
    "fig = ax.get_figure()\n",
    "fig.savefig('output/kaggle_plots.png')"
   ]
  },
  {
   "cell_type": "code",
   "execution_count": 87,
   "metadata": {
    "collapsed": false
   },
   "outputs": [
    {
     "name": "stderr",
     "output_type": "stream",
     "text": [
      "[NbConvertApp] Converting notebook PlotKaggleScores.ipynb to python\n",
      "[NbConvertApp] Writing 754 bytes to PlotKaggleScores.py\n"
     ]
    }
   ],
   "source": [
    "# Save notebook as py \n",
    "!jupyter nbconvert --to=python PlotKaggleScores.ipynb"
   ]
  },
  {
   "cell_type": "code",
   "execution_count": null,
   "metadata": {
    "collapsed": true
   },
   "outputs": [],
   "source": []
  }
 ],
 "metadata": {
  "anaconda-cloud": {},
  "kernelspec": {
   "display_name": "Python [python35]",
   "language": "python",
   "name": "Python [python35]"
  },
  "language_info": {
   "codemirror_mode": {
    "name": "ipython",
    "version": 3
   },
   "file_extension": ".py",
   "mimetype": "text/x-python",
   "name": "python",
   "nbconvert_exporter": "python",
   "pygments_lexer": "ipython3",
   "version": "3.5.2"
  }
 },
 "nbformat": 4,
 "nbformat_minor": 0
}
